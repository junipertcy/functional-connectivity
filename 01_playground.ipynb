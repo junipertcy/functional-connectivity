{
 "cells": [
  {
   "cell_type": "code",
   "execution_count": 2,
   "metadata": {},
   "outputs": [],
   "source": [
    "from scipy.io import loadmat\n",
    "import matplotlib.pyplot as plt\n",
    "import numpy as np\n",
    "from fc.utils import sum_chunk\n",
    "from fc.firstOrderMethods import gradientDescent\n",
    "from numpy.linalg import norm\n",
    "import graph_tool.all as gt"
   ]
  },
  {
   "cell_type": "code",
   "execution_count": 3,
   "metadata": {},
   "outputs": [],
   "source": [
    "data = loadmat('./data/n10612_6_230423_t162213_C.mat')"
   ]
  },
  {
   "cell_type": "code",
   "execution_count": 4,
   "metadata": {},
   "outputs": [
    {
     "data": {
      "text/plain": [
       "<matplotlib.image.AxesImage at 0x7f8ffdab0610>"
      ]
     },
     "execution_count": 4,
     "metadata": {},
     "output_type": "execute_result"
    },
    {
     "data": {
      "image/png": "[encoded data removed]",
      "text/plain": [
       "<Figure size 432x288 with 1 Axes>"
      ]
     },
     "metadata": {
      "needs_background": "light"
     },
     "output_type": "display_data"
    }
   ],
   "source": [
    "plt.imshow(data[\"data\"])"
   ]
  },
  {
   "cell_type": "code",
   "execution_count": 5,
   "metadata": {},
   "outputs": [
    {
     "data": {
      "text/plain": [
       "[<matplotlib.lines.Line2D at 0x7f90a1b6dea0>]"
      ]
     },
     "execution_count": 5,
     "metadata": {},
     "output_type": "execute_result"
    },
    {
     "data": {
      "image/png": "[encoded data removed]",
      "text/plain": [
       "<Figure size 432x288 with 1 Axes>"
      ]
     },
     "metadata": {
      "needs_background": "light"
     },
     "output_type": "display_data"
    }
   ],
   "source": [
    "plt.plot(data[\"data\"][0,: ])"
   ]
  },
  {
   "cell_type": "code",
   "execution_count": 8,
   "metadata": {},
   "outputs": [
    {
     "name": "stderr",
     "output_type": "stream",
     "text": [
      "OMP: Info #276: omp_set_nested routine deprecated, please use omp_set_max_active_levels instead.\n"
     ]
    }
   ],
   "source": [
    "data = loadmat('./data/n10612_6_230423_t162213_C.mat')\n",
    "input_ = np.array(data[\"data\"], dtype=np.float64)\n",
    "x = sum_chunk(input_, 100)\n",
    "cov_mat = np.corrcoef(x)"
   ]
  },
  {
   "cell_type": "code",
   "execution_count": 9,
   "metadata": {},
   "outputs": [
    {
     "data": {
      "text/plain": [
       "(60, 60)"
      ]
     },
     "execution_count": 9,
     "metadata": {},
     "output_type": "execute_result"
    }
   ],
   "source": [
    "cov_mat.shape"
   ]
  },
  {
   "cell_type": "code",
   "execution_count": 121,
   "metadata": {},
   "outputs": [],
   "source": [
    "def loss_function(theta, data):\n",
    "    loss = np.trace(theta @ data) - np.linalg.slogdet(theta)[1]\n",
    "    return loss\n",
    "\n",
    "\n",
    "def gradient(theta, data):\n",
    "    # Compute the inverse of the covariance matrix\n",
    "    inv_theta = np.linalg.inv(theta)\n",
    "    # print(f'shape of inv_theta: {inv_theta.shape}')\n",
    "    # print(f'shape of data: {data.shape}')\n",
    "    \n",
    "    # Compute the gradient\n",
    "    gradient_matrix = - inv_theta + data\n",
    "    \n",
    "    return gradient_matrix\n"
   ]
  },
  {
   "cell_type": "code",
   "execution_count": 122,
   "metadata": {},
   "outputs": [
    {
     "data": {
      "text/plain": [
       "array([[0.764, 0.   , 0.111, 0.   ],\n",
       "       [0.   , 0.387, 0.   , 0.   ],\n",
       "       [0.111, 0.   , 0.306, 0.   ],\n",
       "       [0.   , 0.   , 0.   , 0.652]])"
      ]
     },
     "execution_count": 122,
     "metadata": {},
     "output_type": "execute_result"
    }
   ],
   "source": [
    "import numpy as np\n",
    "from sklearn.covariance import GraphicalLasso\n",
    "true_cov = np.array([[0.8, 0.0, 0.2, 0.0],\n",
    "                     [0.0, 0.4, 0.0, 0.0],\n",
    "                     [0.2, 0.0, 0.3, 0.1],\n",
    "                     [0.0, 0.0, 0.1, 0.7]])\n",
    "np.random.seed(0)\n",
    "X = np.random.multivariate_normal(mean=[0, 0, 0, 0],\n",
    "                                  cov=true_cov,\n",
    "                                  size=1000)\n",
    "cov = GraphicalLasso(alpha=0.1).fit(X)\n",
    "np.around(cov.covariance_, decimals=3)"
   ]
  },
  {
   "cell_type": "code",
   "execution_count": 146,
   "metadata": {},
   "outputs": [
    {
     "name": "stdout",
     "output_type": "stream",
     "text": [
      "Iter.  Objective Stepsize\n",
      "-----  --------- --------\n",
      "    0  5.79e+00  2.03e-02\n",
      "   92  4.56e+00  1.39e-06\n",
      "==  Quitting due to stagnating objective value  ==\n"
     ]
    }
   ],
   "source": [
    "cov_mat = np.cov(X.T)\n",
    "\n",
    "f = lambda x: loss_function(x, cov_mat)\n",
    "grad = lambda x: gradient(x, cov_mat)\n",
    "\n",
    "tau = 1\n",
    "prox = lambda x, t: np.sign(x) * np.maximum(0, np.fabs(x) - tau * t)\n",
    "prox_fcn = lambda x: tau * norm(x, ord=1)\n",
    "\n",
    "estimated_cov, _ = gradientDescent(\n",
    "    f,\n",
    "    grad,\n",
    "    x0=np.random.randn(cov_mat.shape[0], cov_mat.shape[1]),\n",
    "    prox=prox,\n",
    "    prox_obj=prox_fcn,\n",
    "    saveHistory=True,\n",
    "    linesearch=True,\n",
    "    stepsizeOptimism=0.9,\n",
    "    tol=1e-6,\n",
    "    maxIters=1e4,\n",
    ")"
   ]
  },
  {
   "cell_type": "code",
   "execution_count": 139,
   "metadata": {},
   "outputs": [
    {
     "data": {
      "text/plain": [
       "(4, 4)"
      ]
     },
     "execution_count": 139,
     "metadata": {},
     "output_type": "execute_result"
    }
   ],
   "source": [
    "estimated_cov.shape"
   ]
  },
  {
   "cell_type": "code",
   "execution_count": 141,
   "metadata": {},
   "outputs": [
    {
     "data": {
      "text/plain": [
       "array([[ 1.00000000e+00, -4.44089210e-16,  1.38777878e-17,\n",
       "         2.22044605e-16],\n",
       "       [ 1.98558348e-17,  1.00000000e+00,  0.00000000e+00,\n",
       "        -3.17693356e-17],\n",
       "       [-2.77555756e-17,  2.22044605e-16,  1.00000000e+00,\n",
       "         0.00000000e+00],\n",
       "       [ 0.00000000e+00, -1.11022302e-16,  0.00000000e+00,\n",
       "         1.00000000e+00]])"
      ]
     },
     "execution_count": 141,
     "metadata": {},
     "output_type": "execute_result"
    }
   ],
   "source": [
    "estimated_cov @ np.linalg.inv(estimated_cov)"
   ]
  },
  {
   "cell_type": "code",
   "execution_count": 142,
   "metadata": {},
   "outputs": [
    {
     "data": {
      "text/plain": [
       "array([[-0.081, -0.369,  0.021, -0.324],\n",
       "       [-0.   , -0.204,  0.   ,  0.   ],\n",
       "       [-0.018,  0.29 , -0.227,  0.28 ],\n",
       "       [-0.159,  0.971,  0.041,  0.73 ]])"
      ]
     },
     "execution_count": 142,
     "metadata": {},
     "output_type": "execute_result"
    }
   ],
   "source": [
    "np.around(np.linalg.inv(estimated_cov), decimals=3)\n"
   ]
  },
  {
   "cell_type": "code",
   "execution_count": 147,
   "metadata": {},
   "outputs": [
    {
     "data": {
      "text/plain": [
       "array([[ 1.463, -0.12 ,  0.54 ,  0.435],\n",
       "       [-0.53 ,  0.299, -0.057, -0.52 ],\n",
       "       [-0.759, -1.948, -1.954, -0.012],\n",
       "       [ 0.258,  0.157, -0.866,  1.5  ]])"
      ]
     },
     "execution_count": 147,
     "metadata": {},
     "output_type": "execute_result"
    }
   ],
   "source": [
    "np.around(estimated_cov, decimals=3)\n"
   ]
  },
  {
   "cell_type": "code",
   "execution_count": 76,
   "metadata": {},
   "outputs": [
    {
     "data": {
      "text/plain": [
       "array([[ 1.38277995,  0.        , -0.50438699,  0.        ],\n",
       "       [ 0.        ,  2.58627583, -0.        , -0.        ],\n",
       "       [-0.50438699, -0.        ,  3.4570336 , -0.        ],\n",
       "       [ 0.        , -0.        , -0.        ,  1.53448034]])"
      ]
     },
     "execution_count": 76,
     "metadata": {},
     "output_type": "execute_result"
    }
   ],
   "source": [
    "cov.precision_"
   ]
  },
  {
   "cell_type": "code",
   "execution_count": 215,
   "metadata": {},
   "outputs": [
    {
     "data": {
      "text/plain": [
       "<matplotlib.image.AxesImage at 0x7f3ec10050c0>"
      ]
     },
     "execution_count": 215,
     "metadata": {},
     "output_type": "execute_result"
    },
    {
     "data": {
      "image/png": "[encoded data removed]",
      "text/plain": [
       "<Figure size 640x480 with 1 Axes>"
      ]
     },
     "metadata": {},
     "output_type": "display_data"
    }
   ],
   "source": [
    "plt.imshow(dual)"
   ]
  },
  {
   "cell_type": "code",
   "execution_count": 49,
   "metadata": {},
   "outputs": [
    {
     "data": {
      "text/plain": [
       "-94.59993884281177"
      ]
     },
     "execution_count": 49,
     "metadata": {},
     "output_type": "execute_result"
    }
   ],
   "source": [
    "loss_function(np.random.randn(60, 60), data)"
   ]
  },
  {
   "cell_type": "code",
   "execution_count": 18,
   "metadata": {},
   "outputs": [
    {
     "data": {
      "text/plain": [
       "array([[ 1.        ,  0.89669635,  0.89808317, ..., -0.76067556,\n",
       "         0.68685239, -0.62768009],\n",
       "       [ 0.89669635,  1.        ,  0.9216486 , ..., -0.77588167,\n",
       "         0.75568961, -0.75716372],\n",
       "       [ 0.89808317,  0.9216486 ,  1.        , ..., -0.87978793,\n",
       "         0.80636822, -0.61615451],\n",
       "       ...,\n",
       "       [-0.76067556, -0.77588167, -0.87978793, ...,  1.        ,\n",
       "        -0.71165047,  0.45004161],\n",
       "       [ 0.68685239,  0.75568961,  0.80636822, ..., -0.71165047,\n",
       "         1.        , -0.49776238],\n",
       "       [-0.62768009, -0.75716372, -0.61615451, ...,  0.45004161,\n",
       "        -0.49776238,  1.        ]])"
      ]
     },
     "execution_count": 18,
     "metadata": {},
     "output_type": "execute_result"
    }
   ],
   "source": [
    "cov_mat"
   ]
  },
  {
   "cell_type": "code",
   "execution_count": 38,
   "metadata": {},
   "outputs": [
    {
     "data": {
      "text/plain": [
       "array([[ 6.34152897e+00, -1.03063887e+00, -1.00745974e+00, ...,\n",
       "         0.00000000e+00,  0.00000000e+00, -0.00000000e+00],\n",
       "       [-1.03063887e+00,  7.64259897e+00, -1.49249018e+00, ...,\n",
       "         0.00000000e+00, -4.68487239e-03,  5.49659244e-01],\n",
       "       [-1.00745974e+00, -1.49249018e+00,  1.31685066e+01, ...,\n",
       "         0.00000000e+00, -0.00000000e+00,  0.00000000e+00],\n",
       "       ...,\n",
       "       [ 0.00000000e+00,  0.00000000e+00,  0.00000000e+00, ...,\n",
       "         1.10885386e+01, -0.00000000e+00, -0.00000000e+00],\n",
       "       [ 0.00000000e+00, -4.68487239e-03, -0.00000000e+00, ...,\n",
       "        -0.00000000e+00,  4.45994069e+00,  0.00000000e+00],\n",
       "       [-0.00000000e+00,  5.49659244e-01,  0.00000000e+00, ...,\n",
       "        -0.00000000e+00,  0.00000000e+00,  5.85222911e+00]])"
      ]
     },
     "execution_count": 38,
     "metadata": {},
     "output_type": "execute_result"
    }
   ],
   "source": [
    "cov.precision_"
   ]
  },
  {
   "cell_type": "code",
   "execution_count": 35,
   "metadata": {},
   "outputs": [
    {
     "name": "stderr",
     "output_type": "stream",
     "text": [
      "/home/tzuchi/.cache/pypoetry/virtualenvs/functional-connectivity-Av9PpV25-py3.10/lib/python3.10/site-packages/sklearn/covariance/_graph_lasso.py:183: ConvergenceWarning: graphical_lasso: did not converge after 1000 iteration: dual gap: -9.580e-02\n",
      "  warnings.warn(\n"
     ]
    },
    {
     "data": {
      "text/plain": [
       "array([[ 1.   ,  0.847,  0.848, ..., -0.746,  0.707, -0.632],\n",
       "       [ 0.847,  1.   ,  0.872, ..., -0.746,  0.706, -0.707],\n",
       "       [ 0.848,  0.872,  1.   , ..., -0.841,  0.769, -0.598],\n",
       "       ...,\n",
       "       [-0.746, -0.746, -0.841, ...,  1.   , -0.725,  0.441],\n",
       "       [ 0.707,  0.706,  0.769, ..., -0.725,  1.   , -0.462],\n",
       "       [-0.632, -0.707, -0.598, ...,  0.441, -0.462,  1.   ]])"
      ]
     },
     "execution_count": 35,
     "metadata": {},
     "output_type": "execute_result"
    }
   ],
   "source": [
    "cov = GraphicalLasso(alpha=0.05, mode=\"cd\", covariance=\"precomputed\", max_iter=int(1e3)).fit(cov_mat)\n",
    "np.around(cov.covariance_, decimals=3)"
   ]
  },
  {
   "cell_type": "code",
   "execution_count": 27,
   "metadata": {},
   "outputs": [
    {
     "data": {
      "text/plain": [
       "array([ 6.34082217e+00, -1.03111658e+00, -1.00783374e+00, -3.69406797e-04,\n",
       "       -6.60769136e-01, -3.42809563e-04, -3.32890793e-04,  5.69974725e-04,\n",
       "       -4.10969744e-04, -6.06262885e-04,  2.54843473e-04,  1.66435649e-04,\n",
       "        3.79973734e-04, -9.46721798e-02, -1.46551827e-04,  4.70912292e-04,\n",
       "       -1.39993954e+00, -4.58765815e-05,  4.94750019e-02, -2.71022713e-04,\n",
       "       -2.61794682e-04,  3.71490278e-04, -2.84869100e-04,  1.33341089e-05,\n",
       "        1.21745613e-04, -4.36472950e-04, -1.59665104e-04, -5.14712220e-01,\n",
       "        2.00215569e-04, -3.85304243e-04,  2.31581592e-04, -1.02512051e+00,\n",
       "        3.28418532e-04, -7.40656260e-05,  6.19367733e-05,  2.63271000e-04,\n",
       "       -4.72213717e-04,  2.13195077e-06,  3.47587125e-04, -1.01383575e+00,\n",
       "       -8.76719115e-01, -6.38634608e-05,  7.08609828e-05,  2.75055516e-04,\n",
       "        1.45998156e-05, -3.01424988e-05,  1.41831569e-04, -1.64259793e-01,\n",
       "       -1.51403690e-01,  3.21289979e-05, -2.41402068e-01,  1.96205254e-05,\n",
       "        1.02519214e-04, -3.92585819e-05,  1.62377903e-04, -1.21350515e-04,\n",
       "       -1.42418252e-05, -3.74918976e-15,  4.30124686e-15,  1.33226763e-15])"
      ]
     },
     "execution_count": 27,
     "metadata": {},
     "output_type": "execute_result"
    }
   ],
   "source": [
    "np.linalg.inv(cov.covariance_)[0, :]"
   ]
  },
  {
   "cell_type": "code",
   "execution_count": 50,
   "metadata": {},
   "outputs": [
    {
     "ename": "ValueError",
     "evalue": "matmul: Input operand 1 has a mismatch in its core dimension 0, with gufunc signature (n?,k),(k,m?)->(n?,m?) (size 5362 is different from 60)",
     "output_type": "error",
     "traceback": [
      "\u001b[0;31m---------------------------------------------------------------------------\u001b[0m",
      "\u001b[0;31mValueError\u001b[0m                                Traceback (most recent call last)",
      "\u001b[1;32m/home/tzuchi/Documents/Workspace/research/functional-connectivity/01_playground.ipynb Cell 11\u001b[0m line \u001b[0;36m1\n\u001b[0;32m----> <a href='vscode-notebook-cell:/home/tzuchi/Documents/Workspace/research/functional-connectivity/01_playground.ipynb#X24sZmlsZQ%3D%3D?line=0'>1</a>\u001b[0m gradient(np\u001b[39m.\u001b[39;49mrandom\u001b[39m.\u001b[39;49mrandn(\u001b[39m60\u001b[39;49m, \u001b[39m60\u001b[39;49m), data)\u001b[39m.\u001b[39mshape\n",
      "\u001b[1;32m/home/tzuchi/Documents/Workspace/research/functional-connectivity/01_playground.ipynb Cell 11\u001b[0m line \u001b[0;36m1\n\u001b[1;32m     <a href='vscode-notebook-cell:/home/tzuchi/Documents/Workspace/research/functional-connectivity/01_playground.ipynb#X24sZmlsZQ%3D%3D?line=10'>11</a>\u001b[0m inv_theta \u001b[39m=\u001b[39m np\u001b[39m.\u001b[39mlinalg\u001b[39m.\u001b[39minv(theta)\n\u001b[1;32m     <a href='vscode-notebook-cell:/home/tzuchi/Documents/Workspace/research/functional-connectivity/01_playground.ipynb#X24sZmlsZQ%3D%3D?line=12'>13</a>\u001b[0m \u001b[39m# Compute the gradient\u001b[39;00m\n\u001b[0;32m---> <a href='vscode-notebook-cell:/home/tzuchi/Documents/Workspace/research/functional-connectivity/01_playground.ipynb#X24sZmlsZQ%3D%3D?line=13'>14</a>\u001b[0m gradient_matrix \u001b[39m=\u001b[39m \u001b[39m-\u001b[39;49m inv_theta \u001b[39m@\u001b[39;49m data\u001b[39m.\u001b[39;49mT\n\u001b[1;32m     <a href='vscode-notebook-cell:/home/tzuchi/Documents/Workspace/research/functional-connectivity/01_playground.ipynb#X24sZmlsZQ%3D%3D?line=15'>16</a>\u001b[0m \u001b[39mreturn\u001b[39;00m gradient_matrix\n",
      "\u001b[0;31mValueError\u001b[0m: matmul: Input operand 1 has a mismatch in its core dimension 0, with gufunc signature (n?,k),(k,m?)->(n?,m?) (size 5362 is different from 60)"
     ]
    }
   ],
   "source": [
    "gradient(np.random.randn(60, 60), data).shape"
   ]
  },
  {
   "cell_type": "code",
   "execution_count": 39,
   "metadata": {},
   "outputs": [
    {
     "data": {
      "text/plain": [
       "array([[0.816, 0.   , 0.   , 0.   ],\n",
       "       [0.   , 0.364, 0.   , 0.   ],\n",
       "       [0.   , 0.   , 0.322, 0.   ],\n",
       "       [0.   , 0.   , 0.   , 0.69 ]])"
      ]
     },
     "execution_count": 39,
     "metadata": {},
     "output_type": "execute_result"
    }
   ],
   "source": [
    "\n"
   ]
  },
  {
   "cell_type": "code",
   "execution_count": 40,
   "metadata": {},
   "outputs": [
    {
     "data": {
      "text/plain": [
       "array([[ 1.22596272, -0.        , -0.        , -0.        ],\n",
       "       [-0.        ,  2.74605582, -0.        , -0.        ],\n",
       "       [-0.        , -0.        ,  3.10477899, -0.        ],\n",
       "       [-0.        , -0.        , -0.        ,  1.44860969]])"
      ]
     },
     "execution_count": 40,
     "metadata": {},
     "output_type": "execute_result"
    }
   ],
   "source": [
    "cov.precision_"
   ]
  },
  {
   "cell_type": "code",
   "execution_count": 47,
   "metadata": {},
   "outputs": [
    {
     "data": {
      "text/plain": [
       "array([[-6.35959861e+06, -1.10596374e+07, -7.58678370e+06,\n",
       "        -3.70358992e+06],\n",
       "       [-0.00000000e+00,  9.94546107e-03, -0.00000000e+00,\n",
       "        -0.00000000e+00],\n",
       "       [ 8.64837964e+06,  1.50399339e+07,  1.03172212e+07,\n",
       "         5.03648950e+06],\n",
       "       [-6.41765371e+06, -1.11605979e+07, -7.65604146e+06,\n",
       "        -3.73739902e+06]])"
      ]
     },
     "execution_count": 47,
     "metadata": {},
     "output_type": "execute_result"
    }
   ],
   "source": [
    "np.linalg.inv(estimated_cov)"
   ]
  },
  {
   "cell_type": "code",
   "execution_count": 284,
   "metadata": {},
   "outputs": [
    {
     "data": {
      "text/plain": [
       "array([[ 1.05700000e+00,  0.00000000e+00,  0.00000000e+00,\n",
       "         0.00000000e+00],\n",
       "       [-1.52972917e+06, -2.44861124e+09, -7.27042399e+05,\n",
       "        -1.19518910e+07],\n",
       "       [ 0.00000000e+00,  0.00000000e+00,  3.09800000e+00,\n",
       "         0.00000000e+00],\n",
       "       [ 3.84460338e+07,  6.15399091e+10,  1.82724472e+07,\n",
       "         3.00381822e+08]])"
      ]
     },
     "execution_count": 284,
     "metadata": {},
     "output_type": "execute_result"
    }
   ],
   "source": [
    "np.around(np.linalg.inv(estimated_cov), decimals=3)"
   ]
  },
  {
   "cell_type": "code",
   "execution_count": 286,
   "metadata": {},
   "outputs": [
    {
     "data": {
      "text/plain": [
       "array([[ 9.46e-01,  0.00e+00,  0.00e+00,  0.00e+00],\n",
       "       [-2.00e-03, -1.80e-02, -0.00e+00, -1.00e-03],\n",
       "       [ 0.00e+00,  0.00e+00,  3.23e-01,  0.00e+00],\n",
       "       [ 2.17e-01,  3.79e+00,  7.00e-02,  1.51e-01]])"
      ]
     },
     "execution_count": 286,
     "metadata": {},
     "output_type": "execute_result"
    }
   ],
   "source": [
    "np.around(estimated_cov, decimals=3)\n"
   ]
  },
  {
   "cell_type": "code",
   "execution_count": 218,
   "metadata": {},
   "outputs": [
    {
     "data": {
      "text/plain": [
       "array([0.073, 0.04 , 0.038, 0.143])"
      ]
     },
     "execution_count": 218,
     "metadata": {},
     "output_type": "execute_result"
    }
   ],
   "source": [
    "np.around(cov.location_, decimals=3)"
   ]
  },
  {
   "cell_type": "code",
   "execution_count": null,
   "metadata": {},
   "outputs": [],
   "source": []
  }
 ],
 "metadata": {
  "kernelspec": {
   "display_name": "kavli-project-VghDhyoL-py3.10",
   "language": "python",
   "name": "python3"
  },
  "language_info": {
   "codemirror_mode": {
    "name": "ipython",
    "version": 3
   },
   "file_extension": ".py",
   "mimetype": "text/x-python",
   "name": "python",
   "nbconvert_exporter": "python",
   "pygments_lexer": "ipython3",
   "version": "3.10.13"
  }
 },
 "nbformat": 4,
 "nbformat_minor": 2
}
